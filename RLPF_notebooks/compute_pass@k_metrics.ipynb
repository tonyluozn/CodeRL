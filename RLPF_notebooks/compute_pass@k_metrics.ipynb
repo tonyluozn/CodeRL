{
 "cells": [
  {
   "cell_type": "code",
   "execution_count": null,
   "metadata": {},
   "outputs": [],
   "source": [
    "model_name = 'code_rl_model'\n",
    "test_result_path = 'outputs/test/'+model_name+'/test_results/'\n",
    "eval_result_path = 'models_eval/'+model_name"
   ]
  },
  {
   "cell_type": "code",
   "execution_count": null,
   "metadata": {},
   "outputs": [],
   "source": [
    "!pip install pyext"
   ]
  },
  {
   "cell_type": "code",
   "execution_count": null,
   "metadata": {},
   "outputs": [],
   "source": [
    "# collect all pkl files in the test_result_path folder and save them into a json file\n",
    "import os\n",
    "import pickle\n",
    "import json\n",
    "\n",
    "def process_pkl_file(pkl_file_path, data_map):\n",
    "  with open(pkl_file_path, 'rb') as file:\n",
    "    data = pickle.load(file)\n",
    "    problem_id, data = next(iter(data.items()))\n",
    "    print(f'Processing problem {problem_id}')\n",
    "    results = data['results'] # [[F],[-2],[T,T,F]]\n",
    "    times = data['times']\n",
    "    if not results or any(len(sub_array) == 0 for sub_array in results):\n",
    "      print('non valid result: '+ str(problem_id))\n",
    "      return\n",
    "    for i in range(len(results)):\n",
    "      result = results[i] # result could be [-1] [-2] [F] [T,T,T,F] [F,T,F,T,T,T]\n",
    "      time = None\n",
    "      if len(result)==1 and (result[0]==-1 or result[0]==-2):\n",
    "        result = result[0]\n",
    "      else:\n",
    "        # True only if the program passed all the unit tests\n",
    "        passed = True\n",
    "        for test_result in result:\n",
    "          if test_result!=True:\n",
    "            passed = False\n",
    "            break\n",
    "        result = passed\n",
    "        if passed:\n",
    "          time = 0\n",
    "          # Calculate the time as the total time of passing all the unit tests\n",
    "          for time_obj in times[i]:\n",
    "            time+=time_obj.microseconds/1000\n",
    "      data_map[(problem_id,i)] = (result, time)"
   ]
  },
  {
   "cell_type": "code",
   "execution_count": null,
   "metadata": {},
   "outputs": [],
   "source": [
    "# (problem_id,gen_id) -> (error_type,time)\n",
    "# -2 -compile error -1 -runtime error False -fail True -passed all\n",
    "data_map = {}"
   ]
  },
  {
   "cell_type": "code",
   "execution_count": null,
   "metadata": {},
   "outputs": [],
   "source": [
    "entries = os.listdir(test_result_path)\n",
    "file_names = [entry for entry in entries if os.path.isfile(os.path.join(test_result_path, entry))]\n",
    "file_names.sort(key=lambda x: int(x.split('.')[0])) # 0.pkl 1.pkl....\n",
    "len(file_names)"
   ]
  },
  {
   "cell_type": "code",
   "execution_count": null,
   "metadata": {},
   "outputs": [],
   "source": [
    "for file_name in file_names:\n",
    "  process_pkl_file(os.path.join(test_result_path, file_name), data_map)"
   ]
  },
  {
   "cell_type": "code",
   "execution_count": null,
   "metadata": {},
   "outputs": [],
   "source": [
    "# save the data_map to json\n",
    "# check if path exists, if not make one\n",
    "import os\n",
    "if not os.path.exists(eval_result_path):\n",
    "  os.makedirs(eval_result_path)\n",
    "with open(eval_result_path+'/data_map.json', 'w') as file:\n",
    "  data_map = {str(key): value for key, value in data_map.items()}\n",
    "  json.dump(data_map, file, default=str)"
   ]
  },
  {
   "cell_type": "markdown",
   "metadata": {},
   "source": [
    "Load the data and compute pass@k"
   ]
  },
  {
   "cell_type": "code",
   "execution_count": null,
   "metadata": {},
   "outputs": [],
   "source": [
    "# Read the data_map\n",
    "import ast\n",
    "with open(eval_result_path+'/data_map.json', 'r') as file:\n",
    "  data_loaded = json.load(file)\n",
    "loaded_data_map = {ast.literal_eval(key): value for key, value in data_loaded.items()}"
   ]
  },
  {
   "cell_type": "code",
   "execution_count": null,
   "metadata": {},
   "outputs": [],
   "source": [
    "def compute_passed_k(data_map, difficulty = 'all'):\n",
    "  # data_map: (problem_id,gen_id) -> (error_type,time)\n",
    "  # Test:\n",
    "  # interview: 0-2999\n",
    "  # competition: 3000-3999\n",
    "  # Intro: 4000-4999\n",
    "  problem_set = set()\n",
    "  for key in data_map:\n",
    "    if difficulty=='inter':\n",
    "      if 0<=key[0]<=2999:\n",
    "        problem_set.add(key[0])\n",
    "    elif difficulty=='comp':\n",
    "      if 3000<=key[0]<=3999:\n",
    "        problem_set.add(key[0])\n",
    "    elif difficulty=='intro':\n",
    "      if 4000<=key[0]<4999:\n",
    "        problem_set.add(key[0])\n",
    "    else:\n",
    "      problem_set.add(key[0])\n",
    "  total_problems = len(problem_set)\n",
    "  print(total_problems)\n",
    "  total_passed_1 = 0\n",
    "  total_passed_5 = 0\n",
    "  for problem_id in problem_set:\n",
    "      if data_map[(problem_id, 0)][0] == True:\n",
    "          total_passed_1 += 1\n",
    "          total_passed_5 += 1\n",
    "      else:\n",
    "          for gen_id in range(1, 5):\n",
    "              if (problem_id, gen_id) not in data_map:\n",
    "                  # print(f'{problem_id} {gen_id} not in data_map')\n",
    "                  continue\n",
    "              if data_map[(problem_id, gen_id)][0] == True:\n",
    "                  total_passed_5 += 1\n",
    "                  break\n",
    "  # return pass@1 and pass@5\n",
    "  return round(total_passed_1 / total_problems, 5), round(total_passed_5 / total_problems, 5)"
   ]
  },
  {
   "cell_type": "code",
   "execution_count": null,
   "metadata": {},
   "outputs": [],
   "source": [
    "compute_passed_k(loaded_data_map,'intro')"
   ]
  },
  {
   "cell_type": "code",
   "execution_count": null,
   "metadata": {},
   "outputs": [],
   "source": [
    "compute_passed_k(loaded_data_map,'inter')"
   ]
  },
  {
   "cell_type": "code",
   "execution_count": null,
   "metadata": {},
   "outputs": [],
   "source": [
    "compute_passed_k(loaded_data_map,'comp')"
   ]
  },
  {
   "cell_type": "code",
   "execution_count": null,
   "metadata": {},
   "outputs": [],
   "source": [
    "compute_passed_k(loaded_data_map,'all')"
   ]
  }
 ],
 "metadata": {
  "language_info": {
   "name": "python"
  }
 },
 "nbformat": 4,
 "nbformat_minor": 2
}
