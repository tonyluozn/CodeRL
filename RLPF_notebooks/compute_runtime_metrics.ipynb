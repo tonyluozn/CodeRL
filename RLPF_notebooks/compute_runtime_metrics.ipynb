{
 "cells": [
  {
   "cell_type": "code",
   "execution_count": null,
   "metadata": {},
   "outputs": [],
   "source": [
    "# Read the data_map\n",
    "import ast\n",
    "with open(eval_result_path+'/data_map.json', 'r') as file:\n",
    "  data_loaded = json.load(file)\n",
    "loaded_data_map = {ast.literal_eval(key): value for key, value in data_loaded.items()}"
   ]
  },
  {
   "cell_type": "code",
   "execution_count": null,
   "metadata": {},
   "outputs": [],
   "source": [
    "def compute_runtime(data_map, difficulty = 'intro'):\n",
    "  # data_map: (problem_id,gen_id) -> (error_type,time)\n",
    "  problem_set = set()\n",
    "  for key in data_map:\n",
    "    if difficulty=='inter':\n",
    "      if 0<=key[0]<=2999:\n",
    "        problem_set.add(key[0])\n",
    "    elif difficulty=='comp':\n",
    "      if 3000<=key[0]<=3999:\n",
    "        problem_set.add(key[0])\n",
    "    elif difficulty=='intro':\n",
    "      if 4000<=key[0]<4999:\n",
    "        problem_set.add(key[0])\n",
    "    else:\n",
    "      pass\n",
    "  total_passed_program = 0\n",
    "  total_runtime = 0\n",
    "  for problem_id in problem_set:\n",
    "    for gen_id in range(0, 5):\n",
    "        if (problem_id, gen_id) not in data_map:\n",
    "            # print(f'{problem_id} {gen_id} not in data_map')\n",
    "            continue\n",
    "        if data_map[(problem_id, gen_id)][0] == True and data_map[(problem_id, gen_id)][1]:\n",
    "            total_passed_program += 1\n",
    "            total_runtime += data_map[(problem_id, gen_id)][1]\n",
    "  return total_passed_program, round(total_runtime/total_passed_program,2)"
   ]
  },
  {
   "cell_type": "code",
   "execution_count": null,
   "metadata": {},
   "outputs": [],
   "source": [
    "print(compute_runtime(loaded_data_map,'intro'))\n",
    "print(compute_runtime(loaded_data_map,'inter'))\n",
    "print(compute_runtime(loaded_data_map,'comp'))"
   ]
  },
  {
   "cell_type": "code",
   "execution_count": null,
   "metadata": {},
   "outputs": [],
   "source": [
    "S_intro = 6.25\n",
    "S_inter = 1\n",
    "S_comp = 0.18\n",
    "normalized_runtime = (S_intro*compute_runtime(loaded_data_map,'intro')[1]+S_inter*compute_runtime(loaded_data_map,'inter')[1]+S_comp*compute_runtime(loaded_data_map,'comp')[1])\n",
    "print(normalized_runtime)"
   ]
  }
 ],
 "metadata": {
  "language_info": {
   "name": "python"
  }
 },
 "nbformat": 4,
 "nbformat_minor": 2
}
